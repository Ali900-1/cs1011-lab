{
 "cells": [
  {
   "cell_type": "markdown",
   "id": "a3857acc-a3e0-4dfe-b881-938edc380b90",
   "metadata": {},
   "source": [
    " # Lab 4:\n",
    " **Name:** *type your name*\n",
    " \n",
    " **ID:** *type your university number*"
   ]
  },
  {
   "cell_type": "markdown",
   "id": "e1730854-a4f0-43a6-b9eb-45c879ea2bd5",
   "metadata": {},
   "source": [
    "## Output range with increment of 5 (20%)"
   ]
  },
  {
   "cell_type": "markdown",
   "id": "9b103c2e-9507-4004-9751-ec147f138fab",
   "metadata": {},
   "source": [
    "Write a program whose input is two integers. Output is a list that has the first integer and subsequent increments of 5 as long as the value is less than or equal to the second integer. If the second integer $num2$ is less than or equal to the first integer, the output is zero. You are required to complete the function $output\\_range(num1,num2)$ that returns a list that has the first integer and subsequent increments of 5 up to the second integer or returns just zero."
   ]
  },
  {
   "cell_type": "markdown",
   "id": "41a97039-7add-4948-991d-740d05f388b7",
   "metadata": {},
   "source": [
    "#### Ex: If the input is:\n",
    "\n",
    "-15\n",
    "10\n",
    "\n",
    "#### the output is:\n",
    "\n",
    "[-15, -10, -5, 0, 5, 10]"
   ]
  },
  {
   "cell_type": "markdown",
   "id": "c592cab2-c407-460e-b221-8e01a1171a44",
   "metadata": {},
   "source": [
    "#### Ex: If the second integer is less than the first as in:\n",
    "\n",
    "20\n",
    "5\n",
    "\n",
    "#### the output is:\n",
    "Second integer can't be less than the first. <br />\n",
    "0"
   ]
  },
  {
   "cell_type": "markdown",
   "id": "6675e384-6141-422f-8cb9-6f11c0659715",
   "metadata": {},
   "source": [
    "##### Tip:\n",
    "You need to use the $range$ function with the for loop"
   ]
  },
  {
   "cell_type": "markdown",
   "id": "c250d602-9750-4a09-870b-4b238358f7f1",
   "metadata": {},
   "source": [
    "##### Syntax of range function\n",
    "range(start, stop, step)"
   ]
  },
  {
   "cell_type": "code",
   "execution_count": 7,
   "id": "e6d33ab6-0c67-4ac0-b6aa-43513c5c478c",
   "metadata": {},
   "outputs": [
    {
     "name": "stdout",
     "output_type": "stream",
     "text": [
      "range(2, 10, 2)\n"
     ]
    }
   ],
   "source": [
    "x = range(2,10,2)\n",
    "print(x)"
   ]
  },
  {
   "cell_type": "markdown",
   "id": "787dbc30-5864-49bf-bb51-37d5dbb842e4",
   "metadata": {},
   "source": [
    "##### Example of how to use range with for loop"
   ]
  },
  {
   "cell_type": "code",
   "execution_count": 6,
   "id": "3f1cca58-fba4-416e-b593-1d12f3149eeb",
   "metadata": {},
   "outputs": [
    {
     "name": "stdout",
     "output_type": "stream",
     "text": [
      "3 5 7 9 11 13 15 17 19 "
     ]
    }
   ],
   "source": [
    "# Create a sequence of numbers from 3 to 19, but increment by 2 instead of 1:\n",
    "for n in range(3, 20, 2):\n",
    "  print(n, end=' ')"
   ]
  },
  {
   "cell_type": "code",
   "execution_count": null,
   "id": "42933105-6151-4d82-bfd9-4bbee150a2f0",
   "metadata": {},
   "outputs": [
    {
     "name": "stdin",
     "output_type": "stream",
     "text": [
      " 5 50\n"
     ]
    },
    {
     "data": {
      "text/plain": [
       "[5, 10, 15, 20, 25, 30, 35, 40, 45, 50]"
      ]
     },
     "execution_count": 9,
     "metadata": {},
     "output_type": "execute_result"
    }
   ],
   "source": [
    "def output_range(num1,num2):\n",
    "    # Type your code here.\n",
    "    pass\n",
    "\n",
    "num1,num2 = input().split()\n",
    "\n",
    "output_range(int(num1),int(num2))"
   ]
  },
  {
   "cell_type": "markdown",
   "id": "1e9ab80f-1395-4aee-b039-03d4873c74cd",
   "metadata": {},
   "source": [
    "#### Optional Step:\n",
    "\n",
    "- Download the python file [l4grader](https://github.com/mknifiai/cs1011-lab/blob/main/l4grader.py) to test your code.\n",
    "\n",
    "- Place the file in your current working directory. Then run the following code cell "
   ]
  },
  {
   "cell_type": "code",
   "execution_count": null,
   "id": "073f05b0-a81c-46f0-83b8-110d88a73633",
   "metadata": {},
   "outputs": [],
   "source": [
    "%run -i 'l4grader.py'"
   ]
  },
  {
   "cell_type": "markdown",
   "id": "1c5357ca-f01a-4d36-80d8-7b2639753050",
   "metadata": {},
   "source": [
    "## Check in"
   ]
  },
  {
   "cell_type": "markdown",
   "id": "c1da68e3-4bfb-4202-a7ab-d92c32c36757",
   "metadata": {},
   "source": [
    "#### - <font color='red'>Rename this file as follows: lab4-YOUR_UQU_ID.ipynb <font>"
   ]
  },
  {
   "cell_type": "markdown",
   "id": "60a8ef0c-96fa-498f-a3ab-6191c433d211",
   "metadata": {},
   "source": [
    "#### - <font color='red'>Upload your notebook file to Blackboard<font>"
   ]
  }
 ],
 "metadata": {
  "kernelspec": {
   "display_name": "Python 3 (ipykernel)",
   "language": "python",
   "name": "python3"
  },
  "language_info": {
   "codemirror_mode": {
    "name": "ipython",
    "version": 3
   },
   "file_extension": ".py",
   "mimetype": "text/x-python",
   "name": "python",
   "nbconvert_exporter": "python",
   "pygments_lexer": "ipython3",
   "version": "3.12.1"
  }
 },
 "nbformat": 4,
 "nbformat_minor": 5
}

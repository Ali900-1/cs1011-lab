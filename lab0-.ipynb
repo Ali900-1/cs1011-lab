{
 "cells": [
  {
   "cell_type": "markdown",
   "id": "a3857acc-a3e0-4dfe-b881-938edc380b90",
   "metadata": {},
   "source": [
    " # Lab 0: Python and Jupyter Notebook\n",
    " **Name:** *type your name*\n",
    " \n",
    " **ID:** *type your university number*"
   ]
  },
  {
   "cell_type": "markdown",
   "id": "1c58f415-4f7d-4ccb-8fb9-49b64235a600",
   "metadata": {},
   "source": [
    "#### In this lab you will learn how to install Python and run a simple Python program using Jupyter Notebook"
   ]
  },
  {
   "cell_type": "markdown",
   "id": "52195db0-3600-4c99-8b13-89ad553514c6",
   "metadata": {},
   "source": [
    "\n",
    "\n",
    "- You can install miniconda on your computer (https://docs.conda.io/en/latest/miniconda.html). Miniconda contains Python, Jupyter Notebook, and few other packages.\n",
    "\n",
    "<blockquote>JupyterLab is one interface used to create and interact with Jupyter Notebooks.</blockquote>\n",
    "\n",
    "\n",
    "- You can also run python on colab (https://colab.research.google.com/). You must have a google account to use colab. You can create a Jupyter Notebook on colab, the notebook file will be stored on your Google Drive."
   ]
  },
  {
   "cell_type": "markdown",
   "id": "44cb2572-06b5-4a5d-9d7c-3bb93b45d081",
   "metadata": {},
   "source": [
    "#### Let's create a function that prints the message \"Python is Fun\". The message is passed to the function as a parameter"
   ]
  },
  {
   "cell_type": "code",
   "execution_count": 1,
   "id": "edf220c2-dfcc-4544-983d-87d7c156cb08",
   "metadata": {},
   "outputs": [],
   "source": [
    "def print_message(message):\n",
    "    print(message)"
   ]
  },
  {
   "cell_type": "markdown",
   "id": "a6d2869a-1acd-41bb-ba8d-eb020d504ec3",
   "metadata": {},
   "source": [
    "#### Now we call the the function *print_message(message)* and pass the message as an argument"
   ]
  },
  {
   "cell_type": "code",
   "execution_count": 2,
   "id": "d96d70b0-7689-40f2-8601-680ae9a927cb",
   "metadata": {},
   "outputs": [
    {
     "name": "stdout",
     "output_type": "stream",
     "text": [
      "Python is Fun\n"
     ]
    }
   ],
   "source": [
    "mytxt = 'Python is Fun'\n",
    "\n",
    "print_message(mytxt)"
   ]
  },
  {
   "cell_type": "markdown",
   "id": "246ca27a-fd82-43bc-81fe-35bb2b2c9028",
   "metadata": {},
   "source": [
    "#### Here we write another function that returns the sum of two numbers"
   ]
  },
  {
   "cell_type": "code",
   "execution_count": 3,
   "id": "ccf698b5-53dd-43c0-9ecd-8516a65f3d17",
   "metadata": {},
   "outputs": [],
   "source": [
    "def sum_(a,b):\n",
    "    return a+b"
   ]
  },
  {
   "cell_type": "markdown",
   "id": "3c88fc92-1039-4f20-9269-6e0e52e54ca0",
   "metadata": {},
   "source": [
    "#### Let's call the function *sum_(a,b)* and pass any two numbers as arguments"
   ]
  },
  {
   "cell_type": "code",
   "execution_count": 4,
   "id": "e17ba589-1a41-4b34-9206-835b379f616c",
   "metadata": {},
   "outputs": [
    {
     "data": {
      "text/plain": [
       "23"
      ]
     },
     "execution_count": 4,
     "metadata": {},
     "output_type": "execute_result"
    }
   ],
   "source": [
    "sum_(3,20)"
   ]
  },
  {
   "cell_type": "markdown",
   "id": "1c5357ca-f01a-4d36-80d8-7b2639753050",
   "metadata": {},
   "source": [
    "## Check in"
   ]
  },
  {
   "cell_type": "markdown",
   "id": "c1da68e3-4bfb-4202-a7ab-d92c32c36757",
   "metadata": {},
   "source": [
    "#### - <font color='red'>Rename this file as follows: lab0-YOUR_UQU_ID.ipynb <font>"
   ]
  },
  {
   "cell_type": "markdown",
   "id": "60a8ef0c-96fa-498f-a3ab-6191c433d211",
   "metadata": {},
   "source": [
    "#### - <font color='red'>Upload your notebook file to blackboard<font>"
   ]
  }
 ],
 "metadata": {
  "kernelspec": {
   "display_name": "Python 3 (ipykernel)",
   "language": "python",
   "name": "python3"
  },
  "language_info": {
   "codemirror_mode": {
    "name": "ipython",
    "version": 3
   },
   "file_extension": ".py",
   "mimetype": "text/x-python",
   "name": "python",
   "nbconvert_exporter": "python",
   "pygments_lexer": "ipython3",
   "version": "3.12.1"
  }
 },
 "nbformat": 4,
 "nbformat_minor": 5
}
